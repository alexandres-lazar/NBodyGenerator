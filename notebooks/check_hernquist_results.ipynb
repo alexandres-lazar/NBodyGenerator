{
 "cells": [
  {
   "cell_type": "code",
   "execution_count": 2,
   "id": "94b61abf-58d6-42b7-bce7-1dae57df49f0",
   "metadata": {},
   "outputs": [],
   "source": [
    "%matplotlib inline  \n",
    "%config InlineBackend.figure_format = 'retina'\n",
    "\n",
    "from IPython.core.display import HTML\n",
    "HTML(\"\"\"\n",
    "<style>\n",
    ".output_png {\n",
    "    display: table-cell;\n",
    "    text-align: right;\n",
    "    vertical-align: middle;\n",
    "}\n",
    "</style>\n",
    "\"\"\")\n",
    "\n",
    "# system ----\n",
    "import os\n",
    "import sys\n",
    "import matplotlib\n",
    "import h5py\n",
    "import numpy as np\n",
    "import matplotlib.pyplot as plt\n",
    "import matplotlib.gridspec as gridspec\n",
    "from matplotlib.legend_handler import HandlerBase\n",
    "\n",
    "import warnings\n",
    "warnings.filterwarnings(\"ignore\",category=FutureWarning)\n",
    " \n",
    "# !!! you will have to edit this to your local computer\n",
    "\n",
    "# local ----\n",
    "localPath = os.path.expanduser(\"~/\")\n",
    "projPath = os.path.expanduser(localPath+\"_projects/researchproject_014/\")\n",
    "sys.path.append(projPath+\"modules\")\n",
    "import plot_parameters \n",
    "\n",
    "# !!! "
   ]
  },
  {
   "cell_type": "markdown",
   "id": "84619110-19ca-49aa-b3bf-2683a52bdc44",
   "metadata": {},
   "source": [
    "---\n",
    "# Particle Distribution"
   ]
  },
  {
   "cell_type": "code",
   "execution_count": null,
   "id": "879c96d3-c71d-4e68-9376-78893824d443",
   "metadata": {},
   "outputs": [],
   "source": []
  }
 ],
 "metadata": {
  "kernelspec": {
   "display_name": "Python 3 (ipykernel)",
   "language": "python",
   "name": "python3"
  },
  "language_info": {
   "codemirror_mode": {
    "name": "ipython",
    "version": 3
   },
   "file_extension": ".py",
   "mimetype": "text/x-python",
   "name": "python",
   "nbconvert_exporter": "python",
   "pygments_lexer": "ipython3",
   "version": "3.9.6"
  }
 },
 "nbformat": 4,
 "nbformat_minor": 5
}
